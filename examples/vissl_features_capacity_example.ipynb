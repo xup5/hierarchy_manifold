{
 "cells": [
  {
   "cell_type": "code",
   "execution_count": null,
   "metadata": {},
   "outputs": [],
   "source": [
    "import replica_correlations as rep\n",
    "import os\n",
    "import numpy as np\n",
    "import config\n",
    "from vissl_util import load_torchvision_model, get_layer_model, features_of_torchvission\n",
    "import gc\n",
    "\n",
    "node_names = ['x','avgpool']\n",
    "# node_name in ['x', 'layer1.0.relu', 'layer1.1.relu_2', 'layer2.0.relu_1', 'layer2.2.relu', 'layer2.3.relu_2', 'layer3.1.relu_1', 'layer3.3.relu', 'layer3.4.relu_2', 'layer4.0.relu_1', 'layer4.1.relu_1', 'layer4.2.relu', 'layer4.2.relu_1', 'layer4.2.relu_2', 'avgpool']\n",
    "\n",
    "category_folder = os.listdir(config.imagenet_path)\n",
    "model = load_torchvision_model('simclr_resnet')\n",
    "\n",
    "kappa = 0 \n",
    "n_t = 200\n",
    "\n",
    "all_capacity = []\n",
    "for node in node_names:\n",
    "    layer_model = get_layer_model(model, node)\n",
    "    features = []\n",
    "    for label in category_folder[0:40]:\n",
    "        activations = features_of_torchvission(layer_model, label = label, num_im=30, embeding_dim=2048)\n",
    "        features.append(activations)\n",
    "    capacity, *_ = rep.manifold_analysis_corr([feature.T for feature in features], kappa, n_t)  # layer or X?\n",
    "    all_capacity.append(capacity)\n",
    "    del features\n",
    "    del layer_model\n",
    "    gc.collect()\n",
    "    \n",
    "import matplotlib.pyplot as plt\n",
    "fig = plt.figure()\n",
    "plt.plot(all_capacity, label='Capacity')"
   ]
  }
 ],
 "metadata": {
  "language_info": {
   "name": "python"
  }
 },
 "nbformat": 4,
 "nbformat_minor": 2
}
